{
 "cells": [
  {
   "cell_type": "code",
   "execution_count": 1,
   "metadata": {},
   "outputs": [],
   "source": [
    "import nltk\n",
    "from nltk.stem import PorterStemmer\n",
    "from nltk.corpus import stopwords"
   ]
  },
  {
   "cell_type": "code",
   "execution_count": 2,
   "metadata": {},
   "outputs": [],
   "source": [
    "corpus = \"\"\"Narendra Damodardas Modi (Gujarati: [ˈnəɾendɾə dɑmodəɾˈdɑs ˈmodiː] (listen); born 17 September 1950)[a] is an Indian politician serving as the 14th and current prime minister of India since 2014. Modi was the chief minister of Gujarat from 2001 to 2014 and is the Member of Parliament from Varanasi. He is a member of the Bharatiya Janata Party (BJP) and of the Rashtriya Swayamsevak Sangh (RSS), a right-wing Hindu nationalist paramilitary volunteer organisation. He is the first prime minister to have been born after India's independence in 1947 and the second prime minister not belonging to the Indian National Congress to have won two consecutive majorities in the Lok Sabha, or the lower house of India's parliament. He is also the longest serving prime minister from a non-Congress party.\n",
    "\n",
    "Born and raised in Vadnagar, a small town in northeastern Gujarat, Modi completed his secondary education there. He was introduced to the RSS at age eight. He has drawn attention to having to work as a child in his father's tea stall on the Vadnagar railway station platform, a description that has not been reliably corroborated. At age 18, Modi was married to Jashodaben Chimanlal Modi, whom he abandoned soon after. He left his parental home where she had come to live. He first publicly acknowledged her as his wife more than four decades later when required to do so by Indian law, but has made no contact with her since. Modi has asserted he had travelled in northern India for two years after leaving his parental home, visiting a number of religious centres, but few details of his travels have emerged. Upon his return to Gujarat in 1971, he became a full-time worker for the RSS. After the state of emergency was declared by prime minister Indira Gandhi in 1975, Modi went into hiding. The RSS assigned him to the BJP in 1985 and he held several positions within the party hierarchy until 2001, rising to the rank of general secretary.[b]\n",
    "\n",
    "Modi was appointed Chief Minister of Gujarat in 2001 due to Keshubhai Patel's failing health and poor public image following the earthquake in Bhuj. Modi was elected to the legislative assembly soon after. His administration has been considered complicit in the 2002 Gujarat riots in which 1044 people were killed, three-quarters of whom were Muslim,[c] or otherwise criticised for its management of the crisis. A Supreme Court of India–appointed Special Investigation Team found no evidence to initiate prosecution proceedings against Modi personally.[d] While his policies as chief minister—credited with encouraging economic growth—have received praise, his administration has been criticised for failing to significantly improve health, poverty and education indices in the state.[e]\"\"\""
   ]
  },
  {
   "cell_type": "code",
   "execution_count": 3,
   "metadata": {},
   "outputs": [
    {
     "data": {
      "text/plain": [
       "\"Narendra Damodardas Modi (Gujarati: [ˈnəɾendɾə dɑmodəɾˈdɑs ˈmodiː] (listen); born 17 September 1950)[a] is an Indian politician serving as the 14th and current prime minister of India since 2014. Modi was the chief minister of Gujarat from 2001 to 2014 and is the Member of Parliament from Varanasi. He is a member of the Bharatiya Janata Party (BJP) and of the Rashtriya Swayamsevak Sangh (RSS), a right-wing Hindu nationalist paramilitary volunteer organisation. He is the first prime minister to have been born after India's independence in 1947 and the second prime minister not belonging to the Indian National Congress to have won two consecutive majorities in the Lok Sabha, or the lower house of India's parliament. He is also the longest serving prime minister from a non-Congress party.\\n\\nBorn and raised in Vadnagar, a small town in northeastern Gujarat, Modi completed his secondary education there. He was introduced to the RSS at age eight. He has drawn attention to having to work as a child in his father's tea stall on the Vadnagar railway station platform, a description that has not been reliably corroborated. At age 18, Modi was married to Jashodaben Chimanlal Modi, whom he abandoned soon after. He left his parental home where she had come to live. He first publicly acknowledged her as his wife more than four decades later when required to do so by Indian law, but has made no contact with her since. Modi has asserted he had travelled in northern India for two years after leaving his parental home, visiting a number of religious centres, but few details of his travels have emerged. Upon his return to Gujarat in 1971, he became a full-time worker for the RSS. After the state of emergency was declared by prime minister Indira Gandhi in 1975, Modi went into hiding. The RSS assigned him to the BJP in 1985 and he held several positions within the party hierarchy until 2001, rising to the rank of general secretary.[b]\\n\\nModi was appointed Chief Minister of Gujarat in 2001 due to Keshubhai Patel's failing health and poor public image following the earthquake in Bhuj. Modi was elected to the legislative assembly soon after. His administration has been considered complicit in the 2002 Gujarat riots in which 1044 people were killed, three-quarters of whom were Muslim,[c] or otherwise criticised for its management of the crisis. A Supreme Court of India–appointed Special Investigation Team found no evidence to initiate prosecution proceedings against Modi personally.[d] While his policies as chief minister—credited with encouraging economic growth—have received praise, his administration has been criticised for failing to significantly improve health, poverty and education indices in the state.[e]\""
      ]
     },
     "execution_count": 3,
     "metadata": {},
     "output_type": "execute_result"
    }
   ],
   "source": [
    "corpus"
   ]
  },
  {
   "cell_type": "code",
   "execution_count": 4,
   "metadata": {},
   "outputs": [
    {
     "name": "stderr",
     "output_type": "stream",
     "text": [
      "[nltk_data] Downloading package punkt to\n",
      "[nltk_data]     C:\\Users\\prasa\\AppData\\Roaming\\nltk_data...\n",
      "[nltk_data]   Package punkt is already up-to-date!\n"
     ]
    }
   ],
   "source": [
    "nltk.download('punkt')\n",
    "sentences = nltk.sent_tokenize(corpus)"
   ]
  },
  {
   "cell_type": "code",
   "execution_count": 5,
   "metadata": {},
   "outputs": [
    {
     "data": {
      "text/plain": [
       "'Narendra Damodardas Modi (Gujarati: [ˈnəɾendɾə dɑmodəɾˈdɑs ˈmodiː] (listen); born 17 September 1950)[a] is an Indian politician serving as the 14th and current prime minister of India since 2014.'"
      ]
     },
     "execution_count": 5,
     "metadata": {},
     "output_type": "execute_result"
    }
   ],
   "source": [
    "sentences[0]"
   ]
  },
  {
   "cell_type": "code",
   "execution_count": 7,
   "metadata": {},
   "outputs": [],
   "source": [
    "stemmer = PorterStemmer()"
   ]
  },
  {
   "cell_type": "code",
   "execution_count": 10,
   "metadata": {},
   "outputs": [
    {
     "data": {
      "text/plain": [
       "'histor'"
      ]
     },
     "execution_count": 10,
     "metadata": {},
     "output_type": "execute_result"
    }
   ],
   "source": [
    "stemmer.stem('historical')"
   ]
  },
  {
   "cell_type": "code",
   "execution_count": 11,
   "metadata": {},
   "outputs": [],
   "source": [
    "from nltk.stem import WordNetLemmatizer"
   ]
  },
  {
   "cell_type": "code",
   "execution_count": 12,
   "metadata": {},
   "outputs": [],
   "source": [
    "lemma = WordNetLemmatizer()"
   ]
  },
  {
   "cell_type": "code",
   "execution_count": 14,
   "metadata": {},
   "outputs": [
    {
     "data": {
      "text/plain": [
       "'history'"
      ]
     },
     "execution_count": 14,
     "metadata": {},
     "output_type": "execute_result"
    }
   ],
   "source": [
    "lemma.lemmatize('history')"
   ]
  },
  {
   "cell_type": "code",
   "execution_count": 49,
   "metadata": {},
   "outputs": [],
   "source": [
    "import re\n",
    "Corpus = []\n",
    "for _,sentence in enumerate(sentences):\n",
    "    clean_sentence = re.sub('[^a-zA-Z]',' ',sentence)\n",
    "    clean_sentence = clean_sentence.lower()\n",
    "    #Corpus.append(clean_sentence)\n",
    "    ################ Removing stopwords and Lemmatizing ################\n",
    "    words = nltk.word_tokenize(clean_sentence)\n",
    "    string = \"\"\n",
    "    for word in words:\n",
    "        #print(word)\n",
    "        if word not in set(stopwords.words('english')):\n",
    "            word = lemma.lemmatize(word)\n",
    "            string += word + \" \"\n",
    "            \n",
    "    Corpus.append(string)\n",
    "    #print(clean_sentence)\n",
    "    #break"
   ]
  },
  {
   "cell_type": "code",
   "execution_count": 50,
   "metadata": {},
   "outputs": [
    {
     "data": {
      "text/plain": [
       "'narendra damodardas modi gujarati n end mod modi listen born september indian politician serving th current prime minister india since '"
      ]
     },
     "execution_count": 50,
     "metadata": {},
     "output_type": "execute_result"
    }
   ],
   "source": [
    "Corpus[0]"
   ]
  },
  {
   "cell_type": "code",
   "execution_count": 20,
   "metadata": {},
   "outputs": [
    {
     "name": "stderr",
     "output_type": "stream",
     "text": [
      "[nltk_data] Downloading package stopwords to\n",
      "[nltk_data]     C:\\Users\\prasa\\AppData\\Roaming\\nltk_data...\n",
      "[nltk_data]   Unzipping corpora\\stopwords.zip.\n"
     ]
    },
    {
     "data": {
      "text/plain": [
       "True"
      ]
     },
     "execution_count": 20,
     "metadata": {},
     "output_type": "execute_result"
    }
   ],
   "source": [
    "nltk.download('stopwords')"
   ]
  },
  {
   "cell_type": "code",
   "execution_count": 28,
   "metadata": {},
   "outputs": [],
   "source": [
    "################ Stemming #################\n",
    "Stem_word = []\n",
    "for _,clean_sentence in enumerate(Corpus):\n",
    "    words = nltk.word_tokenize(clean_sentence)\n",
    "    #print(words)\n",
    "    for word in words:\n",
    "        if word not in set(stopwords.words('english')):\n",
    "            Stem_word.append(stemmer.stem(word))\n",
    "    #break"
   ]
  },
  {
   "cell_type": "code",
   "execution_count": 29,
   "metadata": {},
   "outputs": [],
   "source": [
    "####################### Lemmatization ######################\n",
    "Lemmatize_word = []\n",
    "for _,clean_sentence in enumerate(Corpus):\n",
    "    words = nltk.word_tokenize(clean_sentence)\n",
    "    for word in words:\n",
    "        if word not in set(stopwords.words('english')):\n",
    "            Lemmatize_word.append(lemma.lemmatize(word))"
   ]
  },
  {
   "cell_type": "code",
   "execution_count": 31,
   "metadata": {},
   "outputs": [
    {
     "name": "stdout",
     "output_type": "stream",
     "text": [
      "Stem : damodarda   Lemma : damodardas\n",
      "Stem : septemb   Lemma : september\n",
      "Stem : serv   Lemma : serving\n",
      "Stem : minist   Lemma : minister\n",
      "Stem : sinc   Lemma : since\n",
      "Stem : minist   Lemma : minister\n",
      "Stem : parti   Lemma : party\n",
      "Stem : rss   Lemma : r\n",
      "Stem : paramilitari   Lemma : paramilitary\n",
      "Stem : volunt   Lemma : volunteer\n",
      "Stem : organis   Lemma : organisation\n",
      "Stem : minist   Lemma : minister\n",
      "Stem : independ   Lemma : independence\n",
      "Stem : minist   Lemma : minister\n",
      "Stem : belong   Lemma : belonging\n",
      "Stem : nation   Lemma : national\n",
      "Stem : consecut   Lemma : consecutive\n",
      "Stem : major   Lemma : majority\n",
      "Stem : hous   Lemma : house\n",
      "Stem : serv   Lemma : serving\n",
      "Stem : minist   Lemma : minister\n",
      "Stem : parti   Lemma : party\n",
      "Stem : rais   Lemma : raised\n",
      "Stem : complet   Lemma : completed\n",
      "Stem : secondari   Lemma : secondary\n",
      "Stem : educ   Lemma : education\n",
      "Stem : introduc   Lemma : introduced\n",
      "Stem : rss   Lemma : r\n",
      "Stem : attent   Lemma : attention\n",
      "Stem : descript   Lemma : description\n",
      "Stem : reliabl   Lemma : reliably\n",
      "Stem : corrobor   Lemma : corroborated\n",
      "Stem : marri   Lemma : married\n",
      "Stem : chimanl   Lemma : chimanlal\n",
      "Stem : abandon   Lemma : abandoned\n",
      "Stem : parent   Lemma : parental\n",
      "Stem : publicli   Lemma : publicly\n",
      "Stem : acknowledg   Lemma : acknowledged\n",
      "Stem : decad   Lemma : decade\n",
      "Stem : requir   Lemma : required\n",
      "Stem : sinc   Lemma : since\n",
      "Stem : assert   Lemma : asserted\n",
      "Stem : travel   Lemma : travelled\n",
      "Stem : leav   Lemma : leaving\n",
      "Stem : parent   Lemma : parental\n",
      "Stem : visit   Lemma : visiting\n",
      "Stem : religi   Lemma : religious\n",
      "Stem : centr   Lemma : centre\n",
      "Stem : emerg   Lemma : emerged\n",
      "Stem : becam   Lemma : became\n",
      "Stem : rss   Lemma : r\n",
      "Stem : emerg   Lemma : emergency\n",
      "Stem : declar   Lemma : declared\n",
      "Stem : minist   Lemma : minister\n",
      "Stem : hide   Lemma : hiding\n",
      "Stem : rss   Lemma : r\n",
      "Stem : assign   Lemma : assigned\n",
      "Stem : sever   Lemma : several\n",
      "Stem : posit   Lemma : position\n",
      "Stem : parti   Lemma : party\n",
      "Stem : hierarchi   Lemma : hierarchy\n",
      "Stem : rise   Lemma : rising\n",
      "Stem : gener   Lemma : general\n",
      "Stem : secretari   Lemma : secretary\n",
      "Stem : appoint   Lemma : appointed\n",
      "Stem : minist   Lemma : minister\n",
      "Stem : fail   Lemma : failing\n",
      "Stem : imag   Lemma : image\n",
      "Stem : follow   Lemma : following\n",
      "Stem : earthquak   Lemma : earthquake\n",
      "Stem : elect   Lemma : elected\n",
      "Stem : legisl   Lemma : legislative\n",
      "Stem : assembl   Lemma : assembly\n",
      "Stem : administr   Lemma : administration\n",
      "Stem : consid   Lemma : considered\n",
      "Stem : peopl   Lemma : people\n",
      "Stem : kill   Lemma : killed\n",
      "Stem : otherwis   Lemma : otherwise\n",
      "Stem : criticis   Lemma : criticised\n",
      "Stem : manag   Lemma : management\n",
      "Stem : crisi   Lemma : crisis\n",
      "Stem : suprem   Lemma : supreme\n",
      "Stem : appoint   Lemma : appointed\n",
      "Stem : investig   Lemma : investigation\n",
      "Stem : evid   Lemma : evidence\n",
      "Stem : initi   Lemma : initiate\n",
      "Stem : prosecut   Lemma : prosecution\n",
      "Stem : proceed   Lemma : proceeding\n",
      "Stem : person   Lemma : personally\n",
      "Stem : polici   Lemma : policy\n",
      "Stem : minist   Lemma : minister\n",
      "Stem : credit   Lemma : credited\n",
      "Stem : encourag   Lemma : encouraging\n",
      "Stem : econom   Lemma : economic\n",
      "Stem : receiv   Lemma : received\n",
      "Stem : prais   Lemma : praise\n",
      "Stem : administr   Lemma : administration\n",
      "Stem : criticis   Lemma : criticised\n",
      "Stem : fail   Lemma : failing\n",
      "Stem : significantli   Lemma : significantly\n",
      "Stem : improv   Lemma : improve\n",
      "Stem : poverti   Lemma : poverty\n",
      "Stem : educ   Lemma : education\n",
      "Stem : indic   Lemma : index\n"
     ]
    }
   ],
   "source": [
    "for stem,lem in zip(Stem_word,Lemmatize_word):\n",
    "    if stem!=lem:\n",
    "        print(\"Stem :\",stem,\"  Lemma :\",lem)"
   ]
  },
  {
   "cell_type": "code",
   "execution_count": 32,
   "metadata": {},
   "outputs": [],
   "source": [
    "from sklearn.feature_extraction.text import CountVectorizer"
   ]
  },
  {
   "cell_type": "code",
   "execution_count": 51,
   "metadata": {},
   "outputs": [],
   "source": [
    "cv = CountVectorizer(binary=True) # Count of every would be 1 at max"
   ]
  },
  {
   "cell_type": "code",
   "execution_count": 52,
   "metadata": {},
   "outputs": [],
   "source": [
    "X = cv.fit_transform(Corpus)"
   ]
  },
  {
   "cell_type": "code",
   "execution_count": 53,
   "metadata": {},
   "outputs": [
    {
     "data": {
      "text/plain": [
       "{'narendra': 102,\n",
       " 'damodardas': 33,\n",
       " 'modi': 100,\n",
       " 'gujarati': 61,\n",
       " 'end': 48,\n",
       " 'mod': 99,\n",
       " 'listen': 88,\n",
       " 'born': 15,\n",
       " 'september': 148,\n",
       " 'indian': 74,\n",
       " 'politician': 120,\n",
       " 'serving': 149,\n",
       " 'th': 163,\n",
       " 'current': 32,\n",
       " 'prime': 125,\n",
       " 'minister': 98,\n",
       " 'india': 73,\n",
       " 'since': 152,\n",
       " 'chief': 17,\n",
       " 'gujarat': 60,\n",
       " 'member': 97,\n",
       " 'parliament': 113,\n",
       " 'varanasi': 172,\n",
       " 'bharatiya': 12,\n",
       " 'janata': 79,\n",
       " 'party': 114,\n",
       " 'bjp': 14,\n",
       " 'rashtriya': 134,\n",
       " 'swayamsevak': 160,\n",
       " 'sangh': 144,\n",
       " 'right': 140,\n",
       " 'wing': 177,\n",
       " 'hindu': 66,\n",
       " 'nationalist': 104,\n",
       " 'paramilitary': 111,\n",
       " 'volunteer': 174,\n",
       " 'organisation': 109,\n",
       " 'first': 52,\n",
       " 'independence': 71,\n",
       " 'second': 145,\n",
       " 'belonging': 11,\n",
       " 'national': 103,\n",
       " 'congress': 23,\n",
       " 'two': 169,\n",
       " 'consecutive': 24,\n",
       " 'majority': 94,\n",
       " 'lok': 90,\n",
       " 'sabha': 143,\n",
       " 'lower': 92,\n",
       " 'house': 68,\n",
       " 'also': 4,\n",
       " 'longest': 91,\n",
       " 'non': 105,\n",
       " 'raised': 132,\n",
       " 'vadnagar': 171,\n",
       " 'small': 153,\n",
       " 'town': 166,\n",
       " 'northeastern': 106,\n",
       " 'completed': 21,\n",
       " 'secondary': 146,\n",
       " 'education': 42,\n",
       " 'introduced': 77,\n",
       " 'age': 3,\n",
       " 'eight': 43,\n",
       " 'drawn': 38,\n",
       " 'attention': 9,\n",
       " 'work': 179,\n",
       " 'child': 18,\n",
       " 'father': 51,\n",
       " 'tea': 161,\n",
       " 'stall': 156,\n",
       " 'railway': 131,\n",
       " 'station': 158,\n",
       " 'platform': 118,\n",
       " 'description': 36,\n",
       " 'reliably': 136,\n",
       " 'corroborated': 27,\n",
       " 'married': 96,\n",
       " 'jashodaben': 80,\n",
       " 'chimanlal': 19,\n",
       " 'abandoned': 0,\n",
       " 'soon': 154,\n",
       " 'left': 86,\n",
       " 'parental': 112,\n",
       " 'home': 67,\n",
       " 'come': 20,\n",
       " 'live': 89,\n",
       " 'publicly': 129,\n",
       " 'acknowledged': 1,\n",
       " 'wife': 176,\n",
       " 'four': 55,\n",
       " 'decade': 34,\n",
       " 'later': 83,\n",
       " 'required': 138,\n",
       " 'law': 84,\n",
       " 'made': 93,\n",
       " 'contact': 26,\n",
       " 'asserted': 7,\n",
       " 'travelled': 168,\n",
       " 'northern': 107,\n",
       " 'year': 181,\n",
       " 'leaving': 85,\n",
       " 'visiting': 173,\n",
       " 'number': 108,\n",
       " 'religious': 137,\n",
       " 'centre': 16,\n",
       " 'detail': 37,\n",
       " 'travel': 167,\n",
       " 'emerged': 45,\n",
       " 'upon': 170,\n",
       " 'return': 139,\n",
       " 'became': 10,\n",
       " 'full': 56,\n",
       " 'time': 165,\n",
       " 'worker': 180,\n",
       " 'state': 157,\n",
       " 'emergency': 46,\n",
       " 'declared': 35,\n",
       " 'indira': 75,\n",
       " 'gandhi': 57,\n",
       " 'went': 175,\n",
       " 'hiding': 64,\n",
       " 'assigned': 8,\n",
       " 'held': 63,\n",
       " 'several': 150,\n",
       " 'position': 122,\n",
       " 'within': 178,\n",
       " 'hierarchy': 65,\n",
       " 'rising': 142,\n",
       " 'rank': 133,\n",
       " 'general': 58,\n",
       " 'secretary': 147,\n",
       " 'appointed': 5,\n",
       " 'due': 39,\n",
       " 'keshubhai': 81,\n",
       " 'patel': 115,\n",
       " 'failing': 50,\n",
       " 'health': 62,\n",
       " 'poor': 121,\n",
       " 'public': 128,\n",
       " 'image': 69,\n",
       " 'following': 53,\n",
       " 'earthquake': 40,\n",
       " 'bhuj': 13,\n",
       " 'elected': 44,\n",
       " 'legislative': 87,\n",
       " 'assembly': 6,\n",
       " 'administration': 2,\n",
       " 'considered': 25,\n",
       " 'complicit': 22,\n",
       " 'riot': 141,\n",
       " 'people': 116,\n",
       " 'killed': 82,\n",
       " 'three': 164,\n",
       " 'quarter': 130,\n",
       " 'muslim': 101,\n",
       " 'otherwise': 110,\n",
       " 'criticised': 31,\n",
       " 'management': 95,\n",
       " 'crisis': 30,\n",
       " 'supreme': 159,\n",
       " 'court': 28,\n",
       " 'special': 155,\n",
       " 'investigation': 78,\n",
       " 'team': 162,\n",
       " 'found': 54,\n",
       " 'evidence': 49,\n",
       " 'initiate': 76,\n",
       " 'prosecution': 127,\n",
       " 'proceeding': 126,\n",
       " 'personally': 117,\n",
       " 'policy': 119,\n",
       " 'credited': 29,\n",
       " 'encouraging': 47,\n",
       " 'economic': 41,\n",
       " 'growth': 59,\n",
       " 'received': 135,\n",
       " 'praise': 124,\n",
       " 'significantly': 151,\n",
       " 'improve': 70,\n",
       " 'poverty': 123,\n",
       " 'index': 72}"
      ]
     },
     "execution_count": 53,
     "metadata": {},
     "output_type": "execute_result"
    }
   ],
   "source": [
    "cv.vocabulary_"
   ]
  },
  {
   "cell_type": "code",
   "execution_count": 54,
   "metadata": {},
   "outputs": [
    {
     "data": {
      "text/plain": [
       "(1, 182)"
      ]
     },
     "execution_count": 54,
     "metadata": {},
     "output_type": "execute_result"
    }
   ],
   "source": [
    "X[0].toarray().shape"
   ]
  },
  {
   "cell_type": "code",
   "execution_count": 55,
   "metadata": {},
   "outputs": [
    {
     "data": {
      "text/plain": [
       "(array([[0, 0, 0, 0, 0, 0, 0, 0, 0, 0, 0, 0, 0, 0, 0, 1, 0, 0, 0, 0, 0, 0,\n",
       "         0, 0, 0, 0, 0, 0, 0, 0, 0, 0, 1, 1, 0, 0, 0, 0, 0, 0, 0, 0, 0, 0,\n",
       "         0, 0, 0, 0, 1, 0, 0, 0, 0, 0, 0, 0, 0, 0, 0, 0, 0, 1, 0, 0, 0, 0,\n",
       "         0, 0, 0, 0, 0, 0, 0, 1, 1, 0, 0, 0, 0, 0, 0, 0, 0, 0, 0, 0, 0, 0,\n",
       "         1, 0, 0, 0, 0, 0, 0, 0, 0, 0, 1, 1, 1, 0, 1, 0, 0, 0, 0, 0, 0, 0,\n",
       "         0, 0, 0, 0, 0, 0, 0, 0, 0, 0, 1, 0, 0, 0, 0, 1, 0, 0, 0, 0, 0, 0,\n",
       "         0, 0, 0, 0, 0, 0, 0, 0, 0, 0, 0, 0, 0, 0, 0, 0, 1, 1, 0, 0, 1, 0,\n",
       "         0, 0, 0, 0, 0, 0, 0, 0, 0, 1, 0, 0, 0, 0, 0, 0, 0, 0, 0, 0, 0, 0,\n",
       "         0, 0, 0, 0, 0, 0]], dtype=int64),\n",
       " 'narendra damodardas modi gujarati n end mod modi listen born september indian politician serving th current prime minister india since ')"
      ]
     },
     "execution_count": 55,
     "metadata": {},
     "output_type": "execute_result"
    }
   ],
   "source": [
    "X[0].toarray(),Corpus[0]"
   ]
  }
 ],
 "metadata": {
  "kernelspec": {
   "display_name": "Python 3 (ipykernel)",
   "language": "python",
   "name": "python3"
  },
  "language_info": {
   "codemirror_mode": {
    "name": "ipython",
    "version": 3
   },
   "file_extension": ".py",
   "mimetype": "text/x-python",
   "name": "python",
   "nbconvert_exporter": "python",
   "pygments_lexer": "ipython3",
   "version": "3.9.12"
  },
  "vscode": {
   "interpreter": {
    "hash": "a5cc43214139c63ef9a2c01915298e668aa0914da3ad919944dec5b51b4ca255"
   }
  }
 },
 "nbformat": 4,
 "nbformat_minor": 4
}
